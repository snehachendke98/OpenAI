{
  "nbformat": 4,
  "nbformat_minor": 0,
  "metadata": {
    "colab": {
      "provenance": []
    },
    "kernelspec": {
      "name": "python3",
      "display_name": "Python 3"
    },
    "language_info": {
      "name": "python"
    }
  },
  "cells": [
    {
      "cell_type": "code",
      "execution_count": null,
      "metadata": {
        "id": "gOVolZJ8gHzT"
      },
      "outputs": [],
      "source": [
        "import openai\n",
        "import json\n",
        "with open(\"env.json\",\"r\") as f:\n",
        "    data=json.load(f)"
      ]
    },
    {
      "cell_type": "code",
      "source": [
        "openai.api_key = data[\"API-KEY\"]\n",
        "response = openai.Completion.create(\n",
        "  model=\"text-davinci-003\",\n",
        "  prompt=\"Correct this to standard English:\\n\\n Python is easy language  programming to learn\",\n",
        "  temperature=0,\n",
        "  max_tokens=60,\n",
        "  top_p=1.0,\n",
        "  frequency_penalty=0.0,\n",
        "  presence_penalty=0.0\n",
        ")\n",
        "print(response['choices'][0]['text'])\n"
      ],
      "metadata": {
        "id": "LR4yGCyDgXMt"
      },
      "execution_count": null,
      "outputs": []
    }
  ]
}